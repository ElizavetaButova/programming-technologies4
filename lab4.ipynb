{
  "nbformat": 4,
  "nbformat_minor": 0,
  "metadata": {
    "kernelspec": {
      "display_name": "Python 3",
      "language": "python",
      "name": "python3"
    },
    "language_info": {
      "codemirror_mode": {
        "name": "ipython",
        "version": 3
      },
      "file_extension": ".py",
      "mimetype": "text/x-python",
      "name": "python",
      "nbconvert_exporter": "python",
      "pygments_lexer": "ipython3",
      "version": "3.8.3"
    },
    "colab": {
      "name": "lab4.ipynb",
      "provenance": []
    }
  },
  "cells": [
    {
      "cell_type": "markdown",
      "metadata": {
        "id": "yspkzV88GwcL"
      },
      "source": [
        "# Лабораторная работа №4\n",
        "_Анализ и визуализация данных в Python_\n",
        "\n",
        "Для начала о том, как пользоваться интерактивным блокнотом. Код помещается в ячейки, для выполнения кода в ячейке нужно кликнуть в ней мышкой, чтобы она выделилась, и нажать Shift-Enter. Поэкспериментируйте на ячейке ниже:"
      ]
    },
    {
      "cell_type": "code",
      "metadata": {
        "scrolled": false,
        "id": "kRkm4EaNGwcO",
        "outputId": "243c9aa9-64c0-43d4-fa04-086a5c111a4e",
        "colab": {
          "base_uri": "https://localhost:8080/"
        }
      },
      "source": [
        "1+1"
      ],
      "execution_count": 1,
      "outputs": [
        {
          "output_type": "execute_result",
          "data": {
            "text/plain": [
              "2"
            ]
          },
          "metadata": {
            "tags": []
          },
          "execution_count": 1
        }
      ]
    },
    {
      "cell_type": "markdown",
      "metadata": {
        "id": "NZ04BuGbGwcP"
      },
      "source": [
        "Если в ячейке находятся несколько выражений, то результатом выполнения ячейки будет результат последнего выражения в ней:"
      ]
    },
    {
      "cell_type": "code",
      "metadata": {
        "scrolled": true,
        "id": "7eBqFA6tGwcP",
        "outputId": "c4e01e03-74fe-4ac5-9d79-badc8253ea24",
        "colab": {
          "base_uri": "https://localhost:8080/"
        }
      },
      "source": [
        "1+1\n",
        "1+2"
      ],
      "execution_count": 2,
      "outputs": [
        {
          "output_type": "execute_result",
          "data": {
            "text/plain": [
              "3"
            ]
          },
          "metadata": {
            "tags": []
          },
          "execution_count": 2
        }
      ]
    },
    {
      "cell_type": "markdown",
      "metadata": {
        "id": "uDz_zqlCGwcP"
      },
      "source": [
        "Теперь перейдём к работе с наборами данных при помощи бибилиотеки pandas"
      ]
    },
    {
      "cell_type": "markdown",
      "metadata": {
        "id": "tdQOPAjFGwcR"
      },
      "source": [
        "## Pandas\n",
        "Для того, чтобы начать работать с pandas, как и всегда в python, его нужно импортировать. Обычно это делают так:"
      ]
    },
    {
      "cell_type": "code",
      "metadata": {
        "id": "nMwCYhwwGwcR"
      },
      "source": [
        "import pandas as pd"
      ],
      "execution_count": 4,
      "outputs": []
    },
    {
      "cell_type": "markdown",
      "metadata": {
        "id": "0XLnJ5UXGwcR"
      },
      "source": [
        "Теперь попробуем загрузить набор данных. Для примера возьмём titanic.csv из каталога datasets, который можно загрузить при помощи функции read_csv:"
      ]
    },
    {
      "cell_type": "code",
      "metadata": {
        "id": "Joxd36QMGwcR"
      },
      "source": [
        "url='https://raw.githubusercontent.com/citrux/programming-technologies-4/main/datasets/titanic.csv'\r\n",
        "data = pd.read_csv(url)"
      ],
      "execution_count": 5,
      "outputs": []
    },
    {
      "cell_type": "markdown",
      "metadata": {
        "id": "UzAY3Mt9GwcS"
      },
      "source": [
        "Взглянем на загруженные данные"
      ]
    },
    {
      "cell_type": "code",
      "metadata": {
        "id": "9QUq-6Z3GwcT",
        "outputId": "d44380ce-7796-4d45-d8c7-466e32024595",
        "colab": {
          "base_uri": "https://localhost:8080/",
          "height": 424
        }
      },
      "source": [
        "data"
      ],
      "execution_count": 6,
      "outputs": [
        {
          "output_type": "execute_result",
          "data": {
            "text/html": [
              "<div>\n",
              "<style scoped>\n",
              "    .dataframe tbody tr th:only-of-type {\n",
              "        vertical-align: middle;\n",
              "    }\n",
              "\n",
              "    .dataframe tbody tr th {\n",
              "        vertical-align: top;\n",
              "    }\n",
              "\n",
              "    .dataframe thead th {\n",
              "        text-align: right;\n",
              "    }\n",
              "</style>\n",
              "<table border=\"1\" class=\"dataframe\">\n",
              "  <thead>\n",
              "    <tr style=\"text-align: right;\">\n",
              "      <th></th>\n",
              "      <th>PassengerId</th>\n",
              "      <th>Survived</th>\n",
              "      <th>Pclass</th>\n",
              "      <th>Name</th>\n",
              "      <th>Sex</th>\n",
              "      <th>Age</th>\n",
              "      <th>SibSp</th>\n",
              "      <th>Parch</th>\n",
              "      <th>Ticket</th>\n",
              "      <th>Fare</th>\n",
              "      <th>Cabin</th>\n",
              "      <th>Embarked</th>\n",
              "    </tr>\n",
              "  </thead>\n",
              "  <tbody>\n",
              "    <tr>\n",
              "      <th>0</th>\n",
              "      <td>1</td>\n",
              "      <td>0</td>\n",
              "      <td>3</td>\n",
              "      <td>Braund, Mr. Owen Harris</td>\n",
              "      <td>male</td>\n",
              "      <td>22.0</td>\n",
              "      <td>1</td>\n",
              "      <td>0</td>\n",
              "      <td>A/5 21171</td>\n",
              "      <td>7.2500</td>\n",
              "      <td>NaN</td>\n",
              "      <td>S</td>\n",
              "    </tr>\n",
              "    <tr>\n",
              "      <th>1</th>\n",
              "      <td>2</td>\n",
              "      <td>1</td>\n",
              "      <td>1</td>\n",
              "      <td>Cumings, Mrs. John Bradley (Florence Briggs Th...</td>\n",
              "      <td>female</td>\n",
              "      <td>38.0</td>\n",
              "      <td>1</td>\n",
              "      <td>0</td>\n",
              "      <td>PC 17599</td>\n",
              "      <td>71.2833</td>\n",
              "      <td>C85</td>\n",
              "      <td>C</td>\n",
              "    </tr>\n",
              "    <tr>\n",
              "      <th>2</th>\n",
              "      <td>3</td>\n",
              "      <td>1</td>\n",
              "      <td>3</td>\n",
              "      <td>Heikkinen, Miss. Laina</td>\n",
              "      <td>female</td>\n",
              "      <td>26.0</td>\n",
              "      <td>0</td>\n",
              "      <td>0</td>\n",
              "      <td>STON/O2. 3101282</td>\n",
              "      <td>7.9250</td>\n",
              "      <td>NaN</td>\n",
              "      <td>S</td>\n",
              "    </tr>\n",
              "    <tr>\n",
              "      <th>3</th>\n",
              "      <td>4</td>\n",
              "      <td>1</td>\n",
              "      <td>1</td>\n",
              "      <td>Futrelle, Mrs. Jacques Heath (Lily May Peel)</td>\n",
              "      <td>female</td>\n",
              "      <td>35.0</td>\n",
              "      <td>1</td>\n",
              "      <td>0</td>\n",
              "      <td>113803</td>\n",
              "      <td>53.1000</td>\n",
              "      <td>C123</td>\n",
              "      <td>S</td>\n",
              "    </tr>\n",
              "    <tr>\n",
              "      <th>4</th>\n",
              "      <td>5</td>\n",
              "      <td>0</td>\n",
              "      <td>3</td>\n",
              "      <td>Allen, Mr. William Henry</td>\n",
              "      <td>male</td>\n",
              "      <td>35.0</td>\n",
              "      <td>0</td>\n",
              "      <td>0</td>\n",
              "      <td>373450</td>\n",
              "      <td>8.0500</td>\n",
              "      <td>NaN</td>\n",
              "      <td>S</td>\n",
              "    </tr>\n",
              "    <tr>\n",
              "      <th>...</th>\n",
              "      <td>...</td>\n",
              "      <td>...</td>\n",
              "      <td>...</td>\n",
              "      <td>...</td>\n",
              "      <td>...</td>\n",
              "      <td>...</td>\n",
              "      <td>...</td>\n",
              "      <td>...</td>\n",
              "      <td>...</td>\n",
              "      <td>...</td>\n",
              "      <td>...</td>\n",
              "      <td>...</td>\n",
              "    </tr>\n",
              "    <tr>\n",
              "      <th>886</th>\n",
              "      <td>887</td>\n",
              "      <td>0</td>\n",
              "      <td>2</td>\n",
              "      <td>Montvila, Rev. Juozas</td>\n",
              "      <td>male</td>\n",
              "      <td>27.0</td>\n",
              "      <td>0</td>\n",
              "      <td>0</td>\n",
              "      <td>211536</td>\n",
              "      <td>13.0000</td>\n",
              "      <td>NaN</td>\n",
              "      <td>S</td>\n",
              "    </tr>\n",
              "    <tr>\n",
              "      <th>887</th>\n",
              "      <td>888</td>\n",
              "      <td>1</td>\n",
              "      <td>1</td>\n",
              "      <td>Graham, Miss. Margaret Edith</td>\n",
              "      <td>female</td>\n",
              "      <td>19.0</td>\n",
              "      <td>0</td>\n",
              "      <td>0</td>\n",
              "      <td>112053</td>\n",
              "      <td>30.0000</td>\n",
              "      <td>B42</td>\n",
              "      <td>S</td>\n",
              "    </tr>\n",
              "    <tr>\n",
              "      <th>888</th>\n",
              "      <td>889</td>\n",
              "      <td>0</td>\n",
              "      <td>3</td>\n",
              "      <td>Johnston, Miss. Catherine Helen \"Carrie\"</td>\n",
              "      <td>female</td>\n",
              "      <td>NaN</td>\n",
              "      <td>1</td>\n",
              "      <td>2</td>\n",
              "      <td>W./C. 6607</td>\n",
              "      <td>23.4500</td>\n",
              "      <td>NaN</td>\n",
              "      <td>S</td>\n",
              "    </tr>\n",
              "    <tr>\n",
              "      <th>889</th>\n",
              "      <td>890</td>\n",
              "      <td>1</td>\n",
              "      <td>1</td>\n",
              "      <td>Behr, Mr. Karl Howell</td>\n",
              "      <td>male</td>\n",
              "      <td>26.0</td>\n",
              "      <td>0</td>\n",
              "      <td>0</td>\n",
              "      <td>111369</td>\n",
              "      <td>30.0000</td>\n",
              "      <td>C148</td>\n",
              "      <td>C</td>\n",
              "    </tr>\n",
              "    <tr>\n",
              "      <th>890</th>\n",
              "      <td>891</td>\n",
              "      <td>0</td>\n",
              "      <td>3</td>\n",
              "      <td>Dooley, Mr. Patrick</td>\n",
              "      <td>male</td>\n",
              "      <td>32.0</td>\n",
              "      <td>0</td>\n",
              "      <td>0</td>\n",
              "      <td>370376</td>\n",
              "      <td>7.7500</td>\n",
              "      <td>NaN</td>\n",
              "      <td>Q</td>\n",
              "    </tr>\n",
              "  </tbody>\n",
              "</table>\n",
              "<p>891 rows × 12 columns</p>\n",
              "</div>"
            ],
            "text/plain": [
              "     PassengerId  Survived  Pclass  ...     Fare Cabin  Embarked\n",
              "0              1         0       3  ...   7.2500   NaN         S\n",
              "1              2         1       1  ...  71.2833   C85         C\n",
              "2              3         1       3  ...   7.9250   NaN         S\n",
              "3              4         1       1  ...  53.1000  C123         S\n",
              "4              5         0       3  ...   8.0500   NaN         S\n",
              "..           ...       ...     ...  ...      ...   ...       ...\n",
              "886          887         0       2  ...  13.0000   NaN         S\n",
              "887          888         1       1  ...  30.0000   B42         S\n",
              "888          889         0       3  ...  23.4500   NaN         S\n",
              "889          890         1       1  ...  30.0000  C148         C\n",
              "890          891         0       3  ...   7.7500   NaN         Q\n",
              "\n",
              "[891 rows x 12 columns]"
            ]
          },
          "metadata": {
            "tags": []
          },
          "execution_count": 6
        }
      ]
    },
    {
      "cell_type": "markdown",
      "metadata": {
        "id": "DWKU6TWUGwcU"
      },
      "source": [
        "Можно попробовать найти в этих данных что-нибудь интересное. Например, посчитаем, какое количество мужчин и женщин было на корабле. Информация об этом хранится в столбце Sex, доступ к которому можно получить следующими способами"
      ]
    },
    {
      "cell_type": "code",
      "metadata": {
        "id": "0Xzv1r3CGwcU",
        "outputId": "aeff3ada-3a7c-4d70-de7f-65ff6d6f1bc1",
        "colab": {
          "base_uri": "https://localhost:8080/"
        }
      },
      "source": [
        "data.Sex"
      ],
      "execution_count": 7,
      "outputs": [
        {
          "output_type": "execute_result",
          "data": {
            "text/plain": [
              "0        male\n",
              "1      female\n",
              "2      female\n",
              "3      female\n",
              "4        male\n",
              "        ...  \n",
              "886      male\n",
              "887    female\n",
              "888    female\n",
              "889      male\n",
              "890      male\n",
              "Name: Sex, Length: 891, dtype: object"
            ]
          },
          "metadata": {
            "tags": []
          },
          "execution_count": 7
        }
      ]
    },
    {
      "cell_type": "markdown",
      "metadata": {
        "id": "YqtygP-AGwcV"
      },
      "source": [
        "или"
      ]
    },
    {
      "cell_type": "code",
      "metadata": {
        "id": "8p8JIY4VGwcV",
        "outputId": "6e38d666-3a6d-4bec-d7a0-05ebc554d825",
        "colab": {
          "base_uri": "https://localhost:8080/"
        }
      },
      "source": [
        "data['Sex']"
      ],
      "execution_count": 8,
      "outputs": [
        {
          "output_type": "execute_result",
          "data": {
            "text/plain": [
              "0        male\n",
              "1      female\n",
              "2      female\n",
              "3      female\n",
              "4        male\n",
              "        ...  \n",
              "886      male\n",
              "887    female\n",
              "888    female\n",
              "889      male\n",
              "890      male\n",
              "Name: Sex, Length: 891, dtype: object"
            ]
          },
          "metadata": {
            "tags": []
          },
          "execution_count": 8
        }
      ]
    },
    {
      "cell_type": "markdown",
      "metadata": {
        "id": "7Lfc8nHiGwcW"
      },
      "source": [
        "Чтобы посчитать количество мужчин и женщин воспользуемся методом value_counts:"
      ]
    },
    {
      "cell_type": "code",
      "metadata": {
        "id": "Gy36YdB3GwcX",
        "outputId": "7cc1d870-012b-4d6f-9743-7cd050f264f9",
        "colab": {
          "base_uri": "https://localhost:8080/"
        }
      },
      "source": [
        "data.Sex.value_counts()"
      ],
      "execution_count": 9,
      "outputs": [
        {
          "output_type": "execute_result",
          "data": {
            "text/plain": [
              "male      577\n",
              "female    314\n",
              "Name: Sex, dtype: int64"
            ]
          },
          "metadata": {
            "tags": []
          },
          "execution_count": 9
        }
      ]
    },
    {
      "cell_type": "markdown",
      "metadata": {
        "id": "Y0-t5F2BGwcX"
      },
      "source": [
        "Можем также получить процентное соотношение, указав флаг normalize:"
      ]
    },
    {
      "cell_type": "code",
      "metadata": {
        "id": "dpGR7Ea_GwcX",
        "outputId": "cde49fb4-0c91-48d1-d1d1-79e7ec829579",
        "colab": {
          "base_uri": "https://localhost:8080/"
        }
      },
      "source": [
        "data.Sex.value_counts(normalize=True)"
      ],
      "execution_count": 10,
      "outputs": [
        {
          "output_type": "execute_result",
          "data": {
            "text/plain": [
              "male      0.647587\n",
              "female    0.352413\n",
              "Name: Sex, dtype: float64"
            ]
          },
          "metadata": {
            "tags": []
          },
          "execution_count": 10
        }
      ]
    },
    {
      "cell_type": "markdown",
      "metadata": {
        "id": "TFNLHCJaGwcX"
      },
      "source": [
        "Можем определить среднюю цену билета, обратившись к столбцу Fare и воспользовавшись методом mean:"
      ]
    },
    {
      "cell_type": "code",
      "metadata": {
        "id": "xJ4_UbemGwcX",
        "outputId": "228ebdc9-e06c-46f4-c04c-9001363857b5",
        "colab": {
          "base_uri": "https://localhost:8080/"
        }
      },
      "source": [
        "data.Fare.mean()"
      ],
      "execution_count": 11,
      "outputs": [
        {
          "output_type": "execute_result",
          "data": {
            "text/plain": [
              "32.2042079685746"
            ]
          },
          "metadata": {
            "tags": []
          },
          "execution_count": 11
        }
      ]
    },
    {
      "cell_type": "markdown",
      "metadata": {
        "id": "NAdzEGIQGwcc"
      },
      "source": [
        "Из нашего набора данных можно построить новый, выбрав только нужные столбцы при помощи свойства loc, например"
      ]
    },
    {
      "cell_type": "code",
      "metadata": {
        "id": "mXB7xMWlGwcd",
        "outputId": "a3880882-cfad-4fe0-9e4b-d13abe2d2f88",
        "colab": {
          "base_uri": "https://localhost:8080/",
          "height": 424
        }
      },
      "source": [
        "new_data = data.loc[:,['Name', 'Age']]\n",
        "new_data"
      ],
      "execution_count": 12,
      "outputs": [
        {
          "output_type": "execute_result",
          "data": {
            "text/html": [
              "<div>\n",
              "<style scoped>\n",
              "    .dataframe tbody tr th:only-of-type {\n",
              "        vertical-align: middle;\n",
              "    }\n",
              "\n",
              "    .dataframe tbody tr th {\n",
              "        vertical-align: top;\n",
              "    }\n",
              "\n",
              "    .dataframe thead th {\n",
              "        text-align: right;\n",
              "    }\n",
              "</style>\n",
              "<table border=\"1\" class=\"dataframe\">\n",
              "  <thead>\n",
              "    <tr style=\"text-align: right;\">\n",
              "      <th></th>\n",
              "      <th>Name</th>\n",
              "      <th>Age</th>\n",
              "    </tr>\n",
              "  </thead>\n",
              "  <tbody>\n",
              "    <tr>\n",
              "      <th>0</th>\n",
              "      <td>Braund, Mr. Owen Harris</td>\n",
              "      <td>22.0</td>\n",
              "    </tr>\n",
              "    <tr>\n",
              "      <th>1</th>\n",
              "      <td>Cumings, Mrs. John Bradley (Florence Briggs Th...</td>\n",
              "      <td>38.0</td>\n",
              "    </tr>\n",
              "    <tr>\n",
              "      <th>2</th>\n",
              "      <td>Heikkinen, Miss. Laina</td>\n",
              "      <td>26.0</td>\n",
              "    </tr>\n",
              "    <tr>\n",
              "      <th>3</th>\n",
              "      <td>Futrelle, Mrs. Jacques Heath (Lily May Peel)</td>\n",
              "      <td>35.0</td>\n",
              "    </tr>\n",
              "    <tr>\n",
              "      <th>4</th>\n",
              "      <td>Allen, Mr. William Henry</td>\n",
              "      <td>35.0</td>\n",
              "    </tr>\n",
              "    <tr>\n",
              "      <th>...</th>\n",
              "      <td>...</td>\n",
              "      <td>...</td>\n",
              "    </tr>\n",
              "    <tr>\n",
              "      <th>886</th>\n",
              "      <td>Montvila, Rev. Juozas</td>\n",
              "      <td>27.0</td>\n",
              "    </tr>\n",
              "    <tr>\n",
              "      <th>887</th>\n",
              "      <td>Graham, Miss. Margaret Edith</td>\n",
              "      <td>19.0</td>\n",
              "    </tr>\n",
              "    <tr>\n",
              "      <th>888</th>\n",
              "      <td>Johnston, Miss. Catherine Helen \"Carrie\"</td>\n",
              "      <td>NaN</td>\n",
              "    </tr>\n",
              "    <tr>\n",
              "      <th>889</th>\n",
              "      <td>Behr, Mr. Karl Howell</td>\n",
              "      <td>26.0</td>\n",
              "    </tr>\n",
              "    <tr>\n",
              "      <th>890</th>\n",
              "      <td>Dooley, Mr. Patrick</td>\n",
              "      <td>32.0</td>\n",
              "    </tr>\n",
              "  </tbody>\n",
              "</table>\n",
              "<p>891 rows × 2 columns</p>\n",
              "</div>"
            ],
            "text/plain": [
              "                                                  Name   Age\n",
              "0                              Braund, Mr. Owen Harris  22.0\n",
              "1    Cumings, Mrs. John Bradley (Florence Briggs Th...  38.0\n",
              "2                               Heikkinen, Miss. Laina  26.0\n",
              "3         Futrelle, Mrs. Jacques Heath (Lily May Peel)  35.0\n",
              "4                             Allen, Mr. William Henry  35.0\n",
              "..                                                 ...   ...\n",
              "886                              Montvila, Rev. Juozas  27.0\n",
              "887                       Graham, Miss. Margaret Edith  19.0\n",
              "888           Johnston, Miss. Catherine Helen \"Carrie\"   NaN\n",
              "889                              Behr, Mr. Karl Howell  26.0\n",
              "890                                Dooley, Mr. Patrick  32.0\n",
              "\n",
              "[891 rows x 2 columns]"
            ]
          },
          "metadata": {
            "tags": []
          },
          "execution_count": 12
        }
      ]
    },
    {
      "cell_type": "markdown",
      "metadata": {
        "id": "876sOQbBGwce"
      },
      "source": [
        "Можно отфильтровать только выживших"
      ]
    },
    {
      "cell_type": "code",
      "metadata": {
        "scrolled": true,
        "id": "MshbHxyjGwce",
        "outputId": "66212dc6-abd3-48c5-b75e-808d52935444",
        "colab": {
          "base_uri": "https://localhost:8080/",
          "height": 424
        }
      },
      "source": [
        "survived = new_data[data.Survived==1]\n",
        "survived"
      ],
      "execution_count": 13,
      "outputs": [
        {
          "output_type": "execute_result",
          "data": {
            "text/html": [
              "<div>\n",
              "<style scoped>\n",
              "    .dataframe tbody tr th:only-of-type {\n",
              "        vertical-align: middle;\n",
              "    }\n",
              "\n",
              "    .dataframe tbody tr th {\n",
              "        vertical-align: top;\n",
              "    }\n",
              "\n",
              "    .dataframe thead th {\n",
              "        text-align: right;\n",
              "    }\n",
              "</style>\n",
              "<table border=\"1\" class=\"dataframe\">\n",
              "  <thead>\n",
              "    <tr style=\"text-align: right;\">\n",
              "      <th></th>\n",
              "      <th>Name</th>\n",
              "      <th>Age</th>\n",
              "    </tr>\n",
              "  </thead>\n",
              "  <tbody>\n",
              "    <tr>\n",
              "      <th>1</th>\n",
              "      <td>Cumings, Mrs. John Bradley (Florence Briggs Th...</td>\n",
              "      <td>38.0</td>\n",
              "    </tr>\n",
              "    <tr>\n",
              "      <th>2</th>\n",
              "      <td>Heikkinen, Miss. Laina</td>\n",
              "      <td>26.0</td>\n",
              "    </tr>\n",
              "    <tr>\n",
              "      <th>3</th>\n",
              "      <td>Futrelle, Mrs. Jacques Heath (Lily May Peel)</td>\n",
              "      <td>35.0</td>\n",
              "    </tr>\n",
              "    <tr>\n",
              "      <th>8</th>\n",
              "      <td>Johnson, Mrs. Oscar W (Elisabeth Vilhelmina Berg)</td>\n",
              "      <td>27.0</td>\n",
              "    </tr>\n",
              "    <tr>\n",
              "      <th>9</th>\n",
              "      <td>Nasser, Mrs. Nicholas (Adele Achem)</td>\n",
              "      <td>14.0</td>\n",
              "    </tr>\n",
              "    <tr>\n",
              "      <th>...</th>\n",
              "      <td>...</td>\n",
              "      <td>...</td>\n",
              "    </tr>\n",
              "    <tr>\n",
              "      <th>875</th>\n",
              "      <td>Najib, Miss. Adele Kiamie \"Jane\"</td>\n",
              "      <td>15.0</td>\n",
              "    </tr>\n",
              "    <tr>\n",
              "      <th>879</th>\n",
              "      <td>Potter, Mrs. Thomas Jr (Lily Alexenia Wilson)</td>\n",
              "      <td>56.0</td>\n",
              "    </tr>\n",
              "    <tr>\n",
              "      <th>880</th>\n",
              "      <td>Shelley, Mrs. William (Imanita Parrish Hall)</td>\n",
              "      <td>25.0</td>\n",
              "    </tr>\n",
              "    <tr>\n",
              "      <th>887</th>\n",
              "      <td>Graham, Miss. Margaret Edith</td>\n",
              "      <td>19.0</td>\n",
              "    </tr>\n",
              "    <tr>\n",
              "      <th>889</th>\n",
              "      <td>Behr, Mr. Karl Howell</td>\n",
              "      <td>26.0</td>\n",
              "    </tr>\n",
              "  </tbody>\n",
              "</table>\n",
              "<p>342 rows × 2 columns</p>\n",
              "</div>"
            ],
            "text/plain": [
              "                                                  Name   Age\n",
              "1    Cumings, Mrs. John Bradley (Florence Briggs Th...  38.0\n",
              "2                               Heikkinen, Miss. Laina  26.0\n",
              "3         Futrelle, Mrs. Jacques Heath (Lily May Peel)  35.0\n",
              "8    Johnson, Mrs. Oscar W (Elisabeth Vilhelmina Berg)  27.0\n",
              "9                  Nasser, Mrs. Nicholas (Adele Achem)  14.0\n",
              "..                                                 ...   ...\n",
              "875                   Najib, Miss. Adele Kiamie \"Jane\"  15.0\n",
              "879      Potter, Mrs. Thomas Jr (Lily Alexenia Wilson)  56.0\n",
              "880       Shelley, Mrs. William (Imanita Parrish Hall)  25.0\n",
              "887                       Graham, Miss. Margaret Edith  19.0\n",
              "889                              Behr, Mr. Karl Howell  26.0\n",
              "\n",
              "[342 rows x 2 columns]"
            ]
          },
          "metadata": {
            "tags": []
          },
          "execution_count": 13
        }
      ]
    },
    {
      "cell_type": "markdown",
      "metadata": {
        "id": "Oj7J0olHGwce"
      },
      "source": [
        "Полученный набор данных можно экспортировать обратно в csv функцией to_csv:"
      ]
    },
    {
      "cell_type": "code",
      "metadata": {
        "id": "xA-3WF0TGwce"
      },
      "source": [
        "survived.to_csv('survived.csv', index=False)"
      ],
      "execution_count": 14,
      "outputs": []
    },
    {
      "cell_type": "markdown",
      "metadata": {
        "id": "Do-9qIR3HPoN"
      },
      "source": [
        "Выбираем только женские имена"
      ]
    },
    {
      "cell_type": "code",
      "metadata": {
        "id": "ec2Q8GbKHSDH",
        "outputId": "940921a4-35b7-4892-db57-d1953d38295c",
        "colab": {
          "base_uri": "https://localhost:8080/"
        }
      },
      "source": [
        "def ParseFirstNameFemale(name):\r\n",
        "    first = name.str.extract(r\"Mrs\\.\\s+[^(]*\\((\\w+)\", expand=False)\r\n",
        "    first.loc[first.isna()] = name.str.extract(r\"\\.\\s+(\\w+)\", expand=False)\r\n",
        "    return first\r\n",
        "female_names=ParseFirstNameFemale(data.loc[data[\"Sex\"]==\"female\", \"Name\"])\r\n",
        "female_names"
      ],
      "execution_count": 15,
      "outputs": [
        {
          "output_type": "execute_result",
          "data": {
            "text/plain": [
              "1       Florence\n",
              "2          Laina\n",
              "3           Lily\n",
              "8      Elisabeth\n",
              "9          Adele\n",
              "         ...    \n",
              "880      Imanita\n",
              "882        Gerda\n",
              "885     Margaret\n",
              "887     Margaret\n",
              "888    Catherine\n",
              "Name: Name, Length: 314, dtype: object"
            ]
          },
          "metadata": {
            "tags": []
          },
          "execution_count": 15
        }
      ]
    },
    {
      "cell_type": "markdown",
      "metadata": {
        "id": "Sul8TEcDHU2a"
      },
      "source": [
        "Ищем самое популярное имя"
      ]
    },
    {
      "cell_type": "code",
      "metadata": {
        "id": "Os97Ji-NHYAp",
        "outputId": "119d4106-e386-4a01-d525-3aad879bffd9",
        "colab": {
          "base_uri": "https://localhost:8080/"
        }
      },
      "source": [
        "female_names.value_counts()"
      ],
      "execution_count": 16,
      "outputs": [
        {
          "output_type": "execute_result",
          "data": {
            "text/plain": [
              "Anna         15\n",
              "Mary         14\n",
              "Elizabeth    11\n",
              "Margaret     10\n",
              "Alice         7\n",
              "             ..\n",
              "Erna          1\n",
              "Fatima        1\n",
              "Cordelia      1\n",
              "Leah          1\n",
              "Karolina      1\n",
              "Name: Name, Length: 177, dtype: int64"
            ]
          },
          "metadata": {
            "tags": []
          },
          "execution_count": 16
        }
      ]
    },
    {
      "cell_type": "markdown",
      "metadata": {
        "id": "IJwt5duLGwce"
      },
      "source": [
        "## Numpy\n",
        "Numpy -- это библиотека для работы с массивами в Python. Список из стандартной библиотеки не достаточно производителен и имеет достаточно скудный интерфейс, чтобы использовать его для научных вычислений. Начнём с импорта библиотеки, который обычно записывают так:"
      ]
    },
    {
      "cell_type": "code",
      "metadata": {
        "id": "aWitXsaMGwcf"
      },
      "source": [
        "import numpy as np"
      ],
      "execution_count": 17,
      "outputs": []
    },
    {
      "cell_type": "markdown",
      "metadata": {
        "id": "j4Lzk9yaGwcf"
      },
      "source": [
        "Создадим массив"
      ]
    },
    {
      "cell_type": "code",
      "metadata": {
        "id": "oIO4iyJiGwcf"
      },
      "source": [
        "arr = np.array([1,2,3,4])"
      ],
      "execution_count": 18,
      "outputs": []
    },
    {
      "cell_type": "markdown",
      "metadata": {
        "id": "tyK5a3zFGwcf"
      },
      "source": [
        "Ровно как и с питоновскими списками можно получать элемент по индексу и делать слайсы:"
      ]
    },
    {
      "cell_type": "code",
      "metadata": {
        "id": "P1wsh33AGwcg",
        "outputId": "96d1bfeb-6798-4abd-d58f-0f274ae32118",
        "colab": {
          "base_uri": "https://localhost:8080/"
        }
      },
      "source": [
        "arr[0]"
      ],
      "execution_count": 19,
      "outputs": [
        {
          "output_type": "execute_result",
          "data": {
            "text/plain": [
              "1"
            ]
          },
          "metadata": {
            "tags": []
          },
          "execution_count": 19
        }
      ]
    },
    {
      "cell_type": "code",
      "metadata": {
        "id": "MaVeS8kEGwch",
        "outputId": "d2c8c98b-9ed9-4858-c932-e2c48302afe3",
        "colab": {
          "base_uri": "https://localhost:8080/"
        }
      },
      "source": [
        "arr[2:]"
      ],
      "execution_count": 20,
      "outputs": [
        {
          "output_type": "execute_result",
          "data": {
            "text/plain": [
              "array([3, 4])"
            ]
          },
          "metadata": {
            "tags": []
          },
          "execution_count": 20
        }
      ]
    },
    {
      "cell_type": "markdown",
      "metadata": {
        "id": "Rt1sQdnTGwch"
      },
      "source": [
        "Но можно и доставать элементы по спи"
      ]
    },
    {
      "cell_type": "markdown",
      "metadata": {
        "id": "9WDUYnquGwch"
      },
      "source": [
        "А можно сделать из него матрицу 2x2:"
      ]
    },
    {
      "cell_type": "code",
      "metadata": {
        "id": "63n57fS4Gwch",
        "outputId": "ddf449e9-ff7e-42f9-8201-2f0c459b6ced",
        "colab": {
          "base_uri": "https://localhost:8080/"
        }
      },
      "source": [
        "m = arr.reshape((2,2))\n",
        "m"
      ],
      "execution_count": 21,
      "outputs": [
        {
          "output_type": "execute_result",
          "data": {
            "text/plain": [
              "array([[1, 2],\n",
              "       [3, 4]])"
            ]
          },
          "metadata": {
            "tags": []
          },
          "execution_count": 21
        }
      ]
    },
    {
      "cell_type": "markdown",
      "metadata": {
        "id": "sllANhGBGwch"
      },
      "source": [
        "Можно транспонировать эту матрицу"
      ]
    },
    {
      "cell_type": "code",
      "metadata": {
        "id": "FX8mhGPkGwch",
        "outputId": "3a829064-f4e5-4372-df47-dd0bdb276f62",
        "colab": {
          "base_uri": "https://localhost:8080/"
        }
      },
      "source": [
        "m.T"
      ],
      "execution_count": 22,
      "outputs": [
        {
          "output_type": "execute_result",
          "data": {
            "text/plain": [
              "array([[1, 3],\n",
              "       [2, 4]])"
            ]
          },
          "metadata": {
            "tags": []
          },
          "execution_count": 22
        }
      ]
    },
    {
      "cell_type": "markdown",
      "metadata": {
        "id": "ByBvtlEpGwcj"
      },
      "source": [
        "Вот так можно получить доступ к первой строке матрицы"
      ]
    },
    {
      "cell_type": "code",
      "metadata": {
        "id": "uk5GMcapGwcj",
        "outputId": "5b2d6bbb-d21e-40ca-e59d-57cb5859ef3c",
        "colab": {
          "base_uri": "https://localhost:8080/"
        }
      },
      "source": [
        "m[0]"
      ],
      "execution_count": 23,
      "outputs": [
        {
          "output_type": "execute_result",
          "data": {
            "text/plain": [
              "array([1, 2])"
            ]
          },
          "metadata": {
            "tags": []
          },
          "execution_count": 23
        }
      ]
    },
    {
      "cell_type": "markdown",
      "metadata": {
        "id": "Is6qHMLGGwck"
      },
      "source": [
        "А вот так -- ко второму столбцу:"
      ]
    },
    {
      "cell_type": "code",
      "metadata": {
        "id": "Feiw3ElsGwck",
        "outputId": "a5a7b844-f420-489a-844a-1a7a97c48b50",
        "colab": {
          "base_uri": "https://localhost:8080/"
        }
      },
      "source": [
        "m[:,1]"
      ],
      "execution_count": 24,
      "outputs": [
        {
          "output_type": "execute_result",
          "data": {
            "text/plain": [
              "array([2, 4])"
            ]
          },
          "metadata": {
            "tags": []
          },
          "execution_count": 24
        }
      ]
    },
    {
      "cell_type": "markdown",
      "metadata": {
        "id": "N3sOppT0Gwcl"
      },
      "source": [
        "Но самое интересное -- это применение операции ко всему массиву сразу. Например:"
      ]
    },
    {
      "cell_type": "code",
      "metadata": {
        "id": "lWx90WWhGwcl",
        "outputId": "a0d64c6f-8a3b-4819-e1ce-6319b217369f",
        "colab": {
          "base_uri": "https://localhost:8080/"
        }
      },
      "source": [
        "a = arr * 2\n",
        "a"
      ],
      "execution_count": 25,
      "outputs": [
        {
          "output_type": "execute_result",
          "data": {
            "text/plain": [
              "array([2, 4, 6, 8])"
            ]
          },
          "metadata": {
            "tags": []
          },
          "execution_count": 25
        }
      ]
    },
    {
      "cell_type": "code",
      "metadata": {
        "id": "g4RKihQqGwcl",
        "outputId": "f4da3b90-687e-4168-d1d7-a6eeea12afae",
        "colab": {
          "base_uri": "https://localhost:8080/"
        }
      },
      "source": [
        "b = arr + 1\n",
        "b"
      ],
      "execution_count": 26,
      "outputs": [
        {
          "output_type": "execute_result",
          "data": {
            "text/plain": [
              "array([2, 3, 4, 5])"
            ]
          },
          "metadata": {
            "tags": []
          },
          "execution_count": 26
        }
      ]
    },
    {
      "cell_type": "markdown",
      "metadata": {
        "id": "pBt01rUbGwcl"
      },
      "source": [
        "Можно даже применять арифметические операции для двух массивов поэлементно, при условии, что их размеры совпадают:"
      ]
    },
    {
      "cell_type": "code",
      "metadata": {
        "id": "Teyh9TyJGwcl",
        "outputId": "91a0efbf-b081-426d-c7c8-f20bc1a34d86",
        "colab": {
          "base_uri": "https://localhost:8080/"
        }
      },
      "source": [
        "a + b"
      ],
      "execution_count": 27,
      "outputs": [
        {
          "output_type": "execute_result",
          "data": {
            "text/plain": [
              "array([ 4,  7, 10, 13])"
            ]
          },
          "metadata": {
            "tags": []
          },
          "execution_count": 27
        }
      ]
    },
    {
      "cell_type": "code",
      "metadata": {
        "id": "kr5t52ypGwcm",
        "outputId": "341ff985-4e85-4b75-d3cd-a753a1a3f7b8",
        "colab": {
          "base_uri": "https://localhost:8080/"
        }
      },
      "source": [
        "a - b"
      ],
      "execution_count": 28,
      "outputs": [
        {
          "output_type": "execute_result",
          "data": {
            "text/plain": [
              "array([0, 1, 2, 3])"
            ]
          },
          "metadata": {
            "tags": []
          },
          "execution_count": 28
        }
      ]
    },
    {
      "cell_type": "code",
      "metadata": {
        "id": "8-fuI2ylGwcm",
        "outputId": "d8311e7b-7e64-466c-9ecc-1d417ee88b10",
        "colab": {
          "base_uri": "https://localhost:8080/"
        }
      },
      "source": [
        "a * b"
      ],
      "execution_count": 29,
      "outputs": [
        {
          "output_type": "execute_result",
          "data": {
            "text/plain": [
              "array([ 4, 12, 24, 40])"
            ]
          },
          "metadata": {
            "tags": []
          },
          "execution_count": 29
        }
      ]
    },
    {
      "cell_type": "code",
      "metadata": {
        "id": "-Fhd2pSCGwcm",
        "outputId": "a90fc220-7a36-4c97-af81-22449d43eee0",
        "colab": {
          "base_uri": "https://localhost:8080/"
        }
      },
      "source": [
        "a / b"
      ],
      "execution_count": 30,
      "outputs": [
        {
          "output_type": "execute_result",
          "data": {
            "text/plain": [
              "array([1.        , 1.33333333, 1.5       , 1.6       ])"
            ]
          },
          "metadata": {
            "tags": []
          },
          "execution_count": 30
        }
      ]
    },
    {
      "cell_type": "code",
      "metadata": {
        "id": "2HvWW-vSGwcn",
        "outputId": "f919e1b4-8281-4c54-ecd8-5b389a84142a",
        "colab": {
          "base_uri": "https://localhost:8080/"
        }
      },
      "source": [
        "a ** b"
      ],
      "execution_count": 31,
      "outputs": [
        {
          "output_type": "execute_result",
          "data": {
            "text/plain": [
              "array([    4,    64,  1296, 32768])"
            ]
          },
          "metadata": {
            "tags": []
          },
          "execution_count": 31
        }
      ]
    },
    {
      "cell_type": "markdown",
      "metadata": {
        "id": "OFyXIe3cGwcn"
      },
      "source": [
        "Для нахождения скалярного произведения двух векторов есть оператор @"
      ]
    },
    {
      "cell_type": "code",
      "metadata": {
        "id": "nehk4uBsGwcn",
        "outputId": "a463463d-5b1a-4d4b-de73-6678801ad73d",
        "colab": {
          "base_uri": "https://localhost:8080/"
        }
      },
      "source": [
        "a @ b"
      ],
      "execution_count": 32,
      "outputs": [
        {
          "output_type": "execute_result",
          "data": {
            "text/plain": [
              "80"
            ]
          },
          "metadata": {
            "tags": []
          },
          "execution_count": 32
        }
      ]
    },
    {
      "cell_type": "markdown",
      "metadata": {
        "id": "mrhgXnJqGwcn"
      },
      "source": [
        "Он же отвечает за умножение матрицы на вектор и перемножение матриц по правилу строка на столбец:"
      ]
    },
    {
      "cell_type": "code",
      "metadata": {
        "id": "G84KEm6NGwco",
        "outputId": "93bbb6d4-775e-4ed8-8aae-f8ca0fd5ed35",
        "colab": {
          "base_uri": "https://localhost:8080/"
        }
      },
      "source": [
        "m @ a[:2]"
      ],
      "execution_count": 33,
      "outputs": [
        {
          "output_type": "execute_result",
          "data": {
            "text/plain": [
              "array([10, 22])"
            ]
          },
          "metadata": {
            "tags": []
          },
          "execution_count": 33
        }
      ]
    },
    {
      "cell_type": "code",
      "metadata": {
        "id": "7YmrXeP3Gwco",
        "outputId": "74f1de3c-7fdb-4b2c-f7d1-827b05b35e7d",
        "colab": {
          "base_uri": "https://localhost:8080/"
        }
      },
      "source": [
        "m @ m"
      ],
      "execution_count": 34,
      "outputs": [
        {
          "output_type": "execute_result",
          "data": {
            "text/plain": [
              "array([[ 7, 10],\n",
              "       [15, 22]])"
            ]
          },
          "metadata": {
            "tags": []
          },
          "execution_count": 34
        }
      ]
    },
    {
      "cell_type": "markdown",
      "metadata": {
        "id": "5lOvPBSdGwco"
      },
      "source": [
        "Также массив позволяет находить статистические характеристики"
      ]
    },
    {
      "cell_type": "code",
      "metadata": {
        "id": "cVyxM_fgGwco",
        "outputId": "8953eeb8-46d3-4598-fc8e-f2c60573bebf",
        "colab": {
          "base_uri": "https://localhost:8080/"
        }
      },
      "source": [
        "arr.sum(), arr.mean(), arr.std()"
      ],
      "execution_count": 35,
      "outputs": [
        {
          "output_type": "execute_result",
          "data": {
            "text/plain": [
              "(10, 2.5, 1.118033988749895)"
            ]
          },
          "metadata": {
            "tags": []
          },
          "execution_count": 35
        }
      ]
    },
    {
      "cell_type": "markdown",
      "metadata": {
        "id": "NsAIjNUsGwcp"
      },
      "source": [
        "Можно фильтровать элементы массива по условию"
      ]
    },
    {
      "cell_type": "code",
      "metadata": {
        "id": "NGNPdE9hGwcp",
        "outputId": "5761fbfb-4faa-440d-c786-7ab5bad35457",
        "colab": {
          "base_uri": "https://localhost:8080/"
        }
      },
      "source": [
        "arr[arr < 3]"
      ],
      "execution_count": 36,
      "outputs": [
        {
          "output_type": "execute_result",
          "data": {
            "text/plain": [
              "array([1, 2])"
            ]
          },
          "metadata": {
            "tags": []
          },
          "execution_count": 36
        }
      ]
    },
    {
      "cell_type": "markdown",
      "metadata": {
        "id": "UcsQ-KkFGwcp"
      },
      "source": [
        "## Matplotlib\n",
        "Для визуализации данных в python есть пакет matplotlib. Обычно его импортируют так:"
      ]
    },
    {
      "cell_type": "code",
      "metadata": {
        "id": "7MFNN1GpGwcp"
      },
      "source": [
        "from matplotlib import pyplot as plt\n",
        "%matplotlib inline"
      ],
      "execution_count": 37,
      "outputs": []
    },
    {
      "cell_type": "markdown",
      "metadata": {
        "id": "ReIgZmwXGwcq"
      },
      "source": [
        "Вторая строчка нужна для того, чтобы графики отображались прямо в блокноте, а не в отдельном окне. Давайте что-нибудь построим:"
      ]
    },
    {
      "cell_type": "code",
      "metadata": {
        "scrolled": true,
        "id": "kyx28CQ8Gwcq",
        "outputId": "94fdf254-a5a2-4262-f19a-bc26837a5ca8",
        "colab": {
          "base_uri": "https://localhost:8080/",
          "height": 265
        }
      },
      "source": [
        "x = np.linspace(0, 2*np.pi, 100)\n",
        "plt.plot(x, np.sin(x))\n",
        "plt.show()"
      ],
      "execution_count": 38,
      "outputs": [
        {
          "output_type": "display_data",
          "data": {
            "image/png": "[encoded data removed]",
            "text/plain": [
              "<Figure size 432x288 with 1 Axes>"
            ]
          },
          "metadata": {
            "tags": [],
            "needs_background": "light"
          }
        }
      ]
    },
    {
      "cell_type": "code",
      "metadata": {
        "id": "a0DAh0EpGwcr",
        "outputId": "90e72938-2d6e-4cb1-b4c9-2d147c55a035",
        "colab": {
          "base_uri": "https://localhost:8080/",
          "height": 265
        }
      },
      "source": [
        "x = np.linspace(0, 2*np.pi, 100)\n",
        "y = np.linspace(0, np.pi, 50)\n",
        "xx, yy = np.meshgrid(x, y)\n",
        "zz = np.sin(xx) * np.cos(yy)\n",
        "plt.contourf(xx, yy, zz, levels=100)\n",
        "plt.show()"
      ],
      "execution_count": 39,
      "outputs": [
        {
          "output_type": "display_data",
          "data": {
            "image/png": "[encoded data removed]",
            "text/plain": [
              "<Figure size 432x288 with 1 Axes>"
            ]
          },
          "metadata": {
            "tags": [],
            "needs_background": "light"
          }
        }
      ]
    },
    {
      "cell_type": "code",
      "metadata": {
        "id": "QiWdnZ4MGwcr",
        "outputId": "718166fe-1f31-4451-fee2-affdc80b3a41",
        "colab": {
          "base_uri": "https://localhost:8080/",
          "height": 265
        }
      },
      "source": [
        "x = np.linspace(0, 10, 100)\n",
        "y = np.sin(x) + 0.1 * x\n",
        "plt.scatter(x + np.random.rand(*x.shape), y + np.random.rand(*x.shape))\n",
        "plt.show()"
      ],
      "execution_count": 40,
      "outputs": [
        {
          "output_type": "display_data",
          "data": {
            "image/png": "[encoded data removed]",
            "text/plain": [
              "<Figure size 432x288 with 1 Axes>"
            ]
          },
          "metadata": {
            "tags": [],
            "needs_background": "light"
          }
        }
      ]
    },
    {
      "cell_type": "markdown",
      "metadata": {
        "id": "EjVrM0CuGwcr"
      },
      "source": [
        "## Scikit-learn\n",
        "А теперь немного машинного обучения со scikit-learn. Рассмотрим примеры задач классификации с использованием решающих деревьев, метода k ближайших соседей, а также линейную регрессию."
      ]
    },
    {
      "cell_type": "markdown",
      "metadata": {
        "id": "XOgDZRurGwcr"
      },
      "source": [
        "### Решающие деревья\n",
        "Рассмотрим знакомый уже нам набор данных о пассажирах титаника. Будем решать на них задачу классификации, в которой по различным характеристикам пассажиров требуется предсказать, кто из них выжил после крушения корабля и на основании полученной модели определим наиболее важные для выживания признаки.\n",
        "\n",
        "Для начала импортируем классификатор"
      ]
    },
    {
      "cell_type": "code",
      "metadata": {
        "id": "A0z0eL4TGwcr"
      },
      "source": [
        "from sklearn.tree import DecisionTreeClassifier"
      ],
      "execution_count": 41,
      "outputs": []
    },
    {
      "cell_type": "code",
      "metadata": {
        "id": "PgNQst2UGwcs"
      },
      "source": [
        "clf = DecisionTreeClassifier()"
      ],
      "execution_count": 42,
      "outputs": []
    },
    {
      "cell_type": "markdown",
      "metadata": {
        "id": "axpA079IGwcs"
      },
      "source": [
        "Теперь подготовим данные. Для начала импортируем их и оставим только такие признаки как пол, класс, цена билета и возраст. В качестве целевой переменной у нас будет факт выживания:"
      ]
    },
    {
      "cell_type": "code",
      "metadata": {
        "id": "MzB112FgGwcs"
      },
      "source": [
        "url='https://raw.githubusercontent.com/citrux/programming-technologies-4/main/datasets/titanic.csv'\n",
        "data = pd.read_csv(url)\n",
        "interesting = data.loc[:, ['Sex', 'Pclass', 'Fare', 'Age', 'Survived']]"
      ],
      "execution_count": 43,
      "outputs": []
    },
    {
      "cell_type": "markdown",
      "metadata": {
        "id": "P7lWQE3AGwcs"
      },
      "source": [
        "Обратим внимание, что имеются пропуски в данных. Избавимся от них, удалив соответствующие строки"
      ]
    },
    {
      "cell_type": "code",
      "metadata": {
        "id": "9FN6IakOGwcs"
      },
      "source": [
        "interesting.dropna(inplace=True)"
      ],
      "execution_count": 44,
      "outputs": []
    },
    {
      "cell_type": "markdown",
      "metadata": {
        "id": "gKCVTObGGwcs"
      },
      "source": [
        "Теперь отделим признаки от целевой переменной"
      ]
    },
    {
      "cell_type": "code",
      "metadata": {
        "id": "Th_xaVs1Gwcs"
      },
      "source": [
        "X = interesting.iloc[:, :-1]\n",
        "y = interesting.iloc[:, -1]"
      ],
      "execution_count": 45,
      "outputs": []
    },
    {
      "cell_type": "markdown",
      "metadata": {
        "id": "haQPEPHtGwct"
      },
      "source": [
        "Заметим, что столбец Sex содержит текстовые данные и преобразуем их к числовым"
      ]
    },
    {
      "cell_type": "code",
      "metadata": {
        "id": "-fJ_MjAuGwct"
      },
      "source": [
        "X.Sex = X.Sex.map(lambda x: 0 if x == 'female' else 1)"
      ],
      "execution_count": 46,
      "outputs": []
    },
    {
      "cell_type": "markdown",
      "metadata": {
        "id": "FCj2cW-KGwcu"
      },
      "source": [
        "Обучим классификатор"
      ]
    },
    {
      "cell_type": "code",
      "metadata": {
        "id": "e7tzShg2Gwcu",
        "outputId": "46307d28-8506-4021-ec21-1669f07a0f3d",
        "colab": {
          "base_uri": "https://localhost:8080/"
        }
      },
      "source": [
        "clf.fit(X, y)"
      ],
      "execution_count": 47,
      "outputs": [
        {
          "output_type": "execute_result",
          "data": {
            "text/plain": [
              "DecisionTreeClassifier(ccp_alpha=0.0, class_weight=None, criterion='gini',\n",
              "                       max_depth=None, max_features=None, max_leaf_nodes=None,\n",
              "                       min_impurity_decrease=0.0, min_impurity_split=None,\n",
              "                       min_samples_leaf=1, min_samples_split=2,\n",
              "                       min_weight_fraction_leaf=0.0, presort='deprecated',\n",
              "                       random_state=None, splitter='best')"
            ]
          },
          "metadata": {
            "tags": []
          },
          "execution_count": 47
        }
      ]
    },
    {
      "cell_type": "markdown",
      "metadata": {
        "id": "eOnsFbthGwcu"
      },
      "source": [
        "Посмотрим на его результаты на обучающей выборке"
      ]
    },
    {
      "cell_type": "code",
      "metadata": {
        "id": "qiN_rNOAGwcu"
      },
      "source": [
        "prediction = clf.predict(X)"
      ],
      "execution_count": 48,
      "outputs": []
    },
    {
      "cell_type": "markdown",
      "metadata": {
        "id": "TePEFZEUGwcv"
      },
      "source": [
        "и определим долю правильных ответов"
      ]
    },
    {
      "cell_type": "code",
      "metadata": {
        "id": "xci8KeIQGwcv",
        "outputId": "e678f291-ccf1-49a0-9d92-47cc68941646",
        "colab": {
          "base_uri": "https://localhost:8080/"
        }
      },
      "source": [
        "from sklearn.metrics import accuracy_score\n",
        "accuracy_score(y, prediction)"
      ],
      "execution_count": 49,
      "outputs": [
        {
          "output_type": "execute_result",
          "data": {
            "text/plain": [
              "0.9845938375350141"
            ]
          },
          "metadata": {
            "tags": []
          },
          "execution_count": 49
        }
      ]
    },
    {
      "cell_type": "markdown",
      "metadata": {
        "id": "kcvtEzuzGwcv"
      },
      "source": [
        "### Метод k ближайших соседей\n",
        "Сейчас мы будем подбирать оптимальное значение k для алгоритма kNN. Будем использовать набор данных Wine, где требуется предсказать сорт винограда, из которого изготовлено вино, используя результаты химических анализов\n",
        "\n",
        "Начинаем с импорта классификатора"
      ]
    },
    {
      "cell_type": "code",
      "metadata": {
        "id": "B90FdQW6Gwcv"
      },
      "source": [
        "from sklearn.neighbors import KNeighborsClassifier"
      ],
      "execution_count": 50,
      "outputs": []
    },
    {
      "cell_type": "markdown",
      "metadata": {
        "id": "8NOkF_6VGwcv"
      },
      "source": [
        "Загрузим данные"
      ]
    },
    {
      "cell_type": "code",
      "metadata": {
        "id": "iB8TyiZUGwcv"
      },
      "source": [
        "url='https://raw.githubusercontent.com/citrux/programming-technologies-4/main/datasets/wine.csv'\r\n",
        "data = pd.read_csv(url, header=None)"
      ],
      "execution_count": 51,
      "outputs": []
    },
    {
      "cell_type": "markdown",
      "metadata": {
        "id": "1lVeimawGwcv"
      },
      "source": [
        "Класс записан в первом столбце (три варианта), признаки — в столбцах со второго по последний."
      ]
    },
    {
      "cell_type": "code",
      "metadata": {
        "id": "BS1IabVIGwcv"
      },
      "source": [
        "X = data.iloc[:, 1:]\n",
        "y = data.iloc[:, 0]"
      ],
      "execution_count": 52,
      "outputs": []
    },
    {
      "cell_type": "markdown",
      "metadata": {
        "id": "BR2nImQMGwcw"
      },
      "source": [
        "Для данного метода настраиваемым параметром является количество ближайших соседей k. Для определения качества классификации и оптимального количества соседей будем рассчитывать точность классификации на кросс-валидации для количества соседей в диапазоне от 1 до 50.\n",
        "\n",
        "Создадим генератор разбиений для проведения кросс-валидации"
      ]
    },
    {
      "cell_type": "code",
      "metadata": {
        "id": "4fRFywWdGwcw"
      },
      "source": [
        "from sklearn.model_selection import KFold\n",
        "cv = KFold(n_splits=5, shuffle=True)"
      ],
      "execution_count": 53,
      "outputs": []
    },
    {
      "cell_type": "markdown",
      "metadata": {
        "id": "7IW17pRPGwcx"
      },
      "source": [
        "И с помощью GridSearchCV будем искать оптимальное значение k"
      ]
    },
    {
      "cell_type": "code",
      "metadata": {
        "id": "jbHZpCrPGwcx",
        "outputId": "ccad1236-1a2a-4803-d7ee-348328729c32",
        "colab": {
          "base_uri": "https://localhost:8080/"
        }
      },
      "source": [
        "from sklearn.model_selection import GridSearchCV\n",
        "\n",
        "grid = {'n_neighbors': np.arange(50) + 1}\n",
        "clf = KNeighborsClassifier()\n",
        "gs = GridSearchCV(clf, grid, scoring='accuracy', cv=cv)\n",
        "gs.fit(X, y)"
      ],
      "execution_count": 54,
      "outputs": [
        {
          "output_type": "execute_result",
          "data": {
            "text/plain": [
              "GridSearchCV(cv=KFold(n_splits=5, random_state=None, shuffle=True),\n",
              "             error_score=nan,\n",
              "             estimator=KNeighborsClassifier(algorithm='auto', leaf_size=30,\n",
              "                                            metric='minkowski',\n",
              "                                            metric_params=None, n_jobs=None,\n",
              "                                            n_neighbors=5, p=2,\n",
              "                                            weights='uniform'),\n",
              "             iid='deprecated', n_jobs=None,\n",
              "             param_grid={'n_neighbors': array([ 1,  2,  3,  4,  5,  6,  7,  8,  9, 10, 11, 12, 13, 14, 15, 16, 17,\n",
              "       18, 19, 20, 21, 22, 23, 24, 25, 26, 27, 28, 29, 30, 31, 32, 33, 34,\n",
              "       35, 36, 37, 38, 39, 40, 41, 42, 43, 44, 45, 46, 47, 48, 49, 50])},\n",
              "             pre_dispatch='2*n_jobs', refit=True, return_train_score=False,\n",
              "             scoring='accuracy', verbose=0)"
            ]
          },
          "metadata": {
            "tags": []
          },
          "execution_count": 54
        }
      ]
    },
    {
      "cell_type": "markdown",
      "metadata": {
        "id": "BmGGNkMEGwcx"
      },
      "source": [
        "Оптимальное значение количества соседей"
      ]
    },
    {
      "cell_type": "code",
      "metadata": {
        "id": "kZQSPq3NGwcx",
        "outputId": "d851d048-d029-42af-9f53-dd2485b89fd7",
        "colab": {
          "base_uri": "https://localhost:8080/"
        }
      },
      "source": [
        "gs.best_params_"
      ],
      "execution_count": 55,
      "outputs": [
        {
          "output_type": "execute_result",
          "data": {
            "text/plain": [
              "{'n_neighbors': 1}"
            ]
          },
          "metadata": {
            "tags": []
          },
          "execution_count": 55
        }
      ]
    },
    {
      "cell_type": "markdown",
      "metadata": {
        "id": "RTFgYa1HGwcy"
      },
      "source": [
        "А точность при этом"
      ]
    },
    {
      "cell_type": "code",
      "metadata": {
        "id": "uQS3eZshGwcy",
        "outputId": "a3176ac0-adad-4c69-f79a-d1830e56ef67",
        "colab": {
          "base_uri": "https://localhost:8080/"
        }
      },
      "source": [
        "gs.best_score_"
      ],
      "execution_count": 56,
      "outputs": [
        {
          "output_type": "execute_result",
          "data": {
            "text/plain": [
              "0.7471428571428571"
            ]
          },
          "metadata": {
            "tags": []
          },
          "execution_count": 56
        }
      ]
    },
    {
      "cell_type": "markdown",
      "metadata": {
        "id": "KjXo3POnGwcy"
      },
      "source": [
        "### Логистическая регрессия\n",
        "\n",
        "Ещё одним способом классификации, несмотря на слово \"регрессия\" в названии, является логистическая регрессия. Одной из ее особенностей является возможность оценивания вероятностей классов, тогда как большинство линейных классификаторов могут выдавать только номера классов.\n",
        "\n",
        "Загрузим данные:"
      ]
    },
    {
      "cell_type": "code",
      "metadata": {
        "id": "2rOM5Ff9Gwcz",
        "outputId": "c9605004-1cde-4aef-c33d-d63e383e8b3e",
        "colab": {
          "base_uri": "https://localhost:8080/",
          "height": 424
        }
      },
      "source": [
        "url='https://raw.githubusercontent.com/citrux/programming-technologies-4/main/datasets/data-logistic.csv'\n",
        "data = pd.read_csv(url, header=None)\n",
        "data"
      ],
      "execution_count": 57,
      "outputs": [
        {
          "output_type": "execute_result",
          "data": {
            "text/html": [
              "<div>\n",
              "<style scoped>\n",
              "    .dataframe tbody tr th:only-of-type {\n",
              "        vertical-align: middle;\n",
              "    }\n",
              "\n",
              "    .dataframe tbody tr th {\n",
              "        vertical-align: top;\n",
              "    }\n",
              "\n",
              "    .dataframe thead th {\n",
              "        text-align: right;\n",
              "    }\n",
              "</style>\n",
              "<table border=\"1\" class=\"dataframe\">\n",
              "  <thead>\n",
              "    <tr style=\"text-align: right;\">\n",
              "      <th></th>\n",
              "      <th>0</th>\n",
              "      <th>1</th>\n",
              "      <th>2</th>\n",
              "    </tr>\n",
              "  </thead>\n",
              "  <tbody>\n",
              "    <tr>\n",
              "      <th>0</th>\n",
              "      <td>-1</td>\n",
              "      <td>-0.663827</td>\n",
              "      <td>-0.138526</td>\n",
              "    </tr>\n",
              "    <tr>\n",
              "      <th>1</th>\n",
              "      <td>1</td>\n",
              "      <td>1.994596</td>\n",
              "      <td>2.468025</td>\n",
              "    </tr>\n",
              "    <tr>\n",
              "      <th>2</th>\n",
              "      <td>-1</td>\n",
              "      <td>-1.247395</td>\n",
              "      <td>0.749425</td>\n",
              "    </tr>\n",
              "    <tr>\n",
              "      <th>3</th>\n",
              "      <td>1</td>\n",
              "      <td>2.309374</td>\n",
              "      <td>1.899836</td>\n",
              "    </tr>\n",
              "    <tr>\n",
              "      <th>4</th>\n",
              "      <td>1</td>\n",
              "      <td>0.849143</td>\n",
              "      <td>2.407750</td>\n",
              "    </tr>\n",
              "    <tr>\n",
              "      <th>...</th>\n",
              "      <td>...</td>\n",
              "      <td>...</td>\n",
              "      <td>...</td>\n",
              "    </tr>\n",
              "    <tr>\n",
              "      <th>200</th>\n",
              "      <td>1</td>\n",
              "      <td>4.245176</td>\n",
              "      <td>3.053931</td>\n",
              "    </tr>\n",
              "    <tr>\n",
              "      <th>201</th>\n",
              "      <td>1</td>\n",
              "      <td>2.437935</td>\n",
              "      <td>1.357804</td>\n",
              "    </tr>\n",
              "    <tr>\n",
              "      <th>202</th>\n",
              "      <td>-1</td>\n",
              "      <td>-1.876638</td>\n",
              "      <td>1.533398</td>\n",
              "    </tr>\n",
              "    <tr>\n",
              "      <th>203</th>\n",
              "      <td>1</td>\n",
              "      <td>-6.824446</td>\n",
              "      <td>-13.934211</td>\n",
              "    </tr>\n",
              "    <tr>\n",
              "      <th>204</th>\n",
              "      <td>-1</td>\n",
              "      <td>0.001805</td>\n",
              "      <td>0.865147</td>\n",
              "    </tr>\n",
              "  </tbody>\n",
              "</table>\n",
              "<p>205 rows × 3 columns</p>\n",
              "</div>"
            ],
            "text/plain": [
              "     0         1          2\n",
              "0   -1 -0.663827  -0.138526\n",
              "1    1  1.994596   2.468025\n",
              "2   -1 -1.247395   0.749425\n",
              "3    1  2.309374   1.899836\n",
              "4    1  0.849143   2.407750\n",
              "..  ..       ...        ...\n",
              "200  1  4.245176   3.053931\n",
              "201  1  2.437935   1.357804\n",
              "202 -1 -1.876638   1.533398\n",
              "203  1 -6.824446 -13.934211\n",
              "204 -1  0.001805   0.865147\n",
              "\n",
              "[205 rows x 3 columns]"
            ]
          },
          "metadata": {
            "tags": []
          },
          "execution_count": 57
        }
      ]
    },
    {
      "cell_type": "markdown",
      "metadata": {
        "id": "yeiqv27oGwc0"
      },
      "source": [
        "Импортируем классификатор"
      ]
    },
    {
      "cell_type": "code",
      "metadata": {
        "id": "0yPhBXL-Gwc0"
      },
      "source": [
        "from sklearn.linear_model import LogisticRegression\n",
        "clf = LogisticRegression(C=0.1)"
      ],
      "execution_count": 58,
      "outputs": []
    },
    {
      "cell_type": "markdown",
      "metadata": {
        "id": "O7IAmSx5Gwc0"
      },
      "source": [
        "Обучим классификатор"
      ]
    },
    {
      "cell_type": "code",
      "metadata": {
        "id": "F-4g1YrOGwc0",
        "outputId": "5ced9f60-027b-46a3-99c0-cd6db9b2c2c6",
        "colab": {
          "base_uri": "https://localhost:8080/"
        }
      },
      "source": [
        "clf.fit(data.iloc[:,1:], data.iloc[:,0])"
      ],
      "execution_count": 59,
      "outputs": [
        {
          "output_type": "execute_result",
          "data": {
            "text/plain": [
              "LogisticRegression(C=0.1, class_weight=None, dual=False, fit_intercept=True,\n",
              "                   intercept_scaling=1, l1_ratio=None, max_iter=100,\n",
              "                   multi_class='auto', n_jobs=None, penalty='l2',\n",
              "                   random_state=None, solver='lbfgs', tol=0.0001, verbose=0,\n",
              "                   warm_start=False)"
            ]
          },
          "metadata": {
            "tags": []
          },
          "execution_count": 59
        }
      ]
    },
    {
      "cell_type": "markdown",
      "metadata": {
        "id": "e5UgZhTpGwc0"
      },
      "source": [
        "Визуализируем результат"
      ]
    },
    {
      "cell_type": "code",
      "metadata": {
        "id": "WMb0kNrfGwc1",
        "outputId": "1ec3b558-00a1-4d91-8b55-efefc69c582d",
        "colab": {
          "base_uri": "https://localhost:8080/",
          "height": 283
        }
      },
      "source": [
        "xx,yy = np.meshgrid(np.linspace(data.iloc[:,1].min(), data.iloc[:,1].max(), 100),\n",
        "                    np.linspace(data.iloc[:,2].min(), data.iloc[:,2].max(), 100))\n",
        "zz = clf.predict(np.column_stack((xx.ravel(), yy.ravel())))\n",
        "zz = zz.reshape(xx.shape)\n",
        "plt.contourf(xx, yy, zz, levels=100)\n",
        "plt.scatter(data[data[0]==-1].iloc[:,1], data[data[0]==-1].iloc[:,2], marker='v')\n",
        "plt.scatter(data[data[0]==1].iloc[:,1], data[data[0]==1].iloc[:,2], marker='^')"
      ],
      "execution_count": 60,
      "outputs": [
        {
          "output_type": "execute_result",
          "data": {
            "text/plain": [
              "<matplotlib.collections.PathCollection at 0x7fcbf48d4b70>"
            ]
          },
          "metadata": {
            "tags": []
          },
          "execution_count": 60
        },
        {
          "output_type": "display_data",
          "data": {
            "image/png": "[encoded data removed]",
            "text/plain": [
              "<Figure size 432x288 with 1 Axes>"
            ]
          },
          "metadata": {
            "tags": [],
            "needs_background": "light"
          }
        }
      ]
    },
    {
      "cell_type": "markdown",
      "metadata": {
        "id": "p9XA7wp2Gwc1"
      },
      "source": [
        "Определим качество классификации при помощи метрики ROC-AUC:"
      ]
    },
    {
      "cell_type": "code",
      "metadata": {
        "id": "QyhYY0vxGwc1",
        "outputId": "1e1351f6-d26c-44ca-853f-1cece88b6949",
        "colab": {
          "base_uri": "https://localhost:8080/"
        }
      },
      "source": [
        "from sklearn.metrics import roc_auc_score\n",
        "roc_auc_score(data[0], clf.predict(data.iloc[:, 1:]))"
      ],
      "execution_count": 61,
      "outputs": [
        {
          "output_type": "execute_result",
          "data": {
            "text/plain": [
              "0.8873809523809524"
            ]
          },
          "metadata": {
            "tags": []
          },
          "execution_count": 61
        }
      ]
    },
    {
      "cell_type": "markdown",
      "metadata": {
        "id": "fSJ8EHRoGwc1"
      },
      "source": [
        "### Линейная регрессия\n",
        "А сейчас мы будем предсказывать зарплату по описанию вакансии! Начнём с загрузки данных"
      ]
    },
    {
      "cell_type": "code",
      "metadata": {
        "id": "olqT3muIGwc1",
        "outputId": "a6c86d62-aca1-49d4-a003-e548d2904f6d",
        "colab": {
          "base_uri": "https://localhost:8080/",
          "height": 424
        }
      },
      "source": [
        "url='https://raw.githubusercontent.com/citrux/programming-technologies-4/main/datasets/salary-train.csv'\n",
        "data = pd.read_csv(url)\n",
        "data"
      ],
      "execution_count": 62,
      "outputs": [
        {
          "output_type": "execute_result",
          "data": {
            "text/html": [
              "<div>\n",
              "<style scoped>\n",
              "    .dataframe tbody tr th:only-of-type {\n",
              "        vertical-align: middle;\n",
              "    }\n",
              "\n",
              "    .dataframe tbody tr th {\n",
              "        vertical-align: top;\n",
              "    }\n",
              "\n",
              "    .dataframe thead th {\n",
              "        text-align: right;\n",
              "    }\n",
              "</style>\n",
              "<table border=\"1\" class=\"dataframe\">\n",
              "  <thead>\n",
              "    <tr style=\"text-align: right;\">\n",
              "      <th></th>\n",
              "      <th>FullDescription</th>\n",
              "      <th>LocationNormalized</th>\n",
              "      <th>ContractTime</th>\n",
              "      <th>SalaryNormalized</th>\n",
              "    </tr>\n",
              "  </thead>\n",
              "  <tbody>\n",
              "    <tr>\n",
              "      <th>0</th>\n",
              "      <td>International Sales Manager London ****k  ****...</td>\n",
              "      <td>London</td>\n",
              "      <td>permanent</td>\n",
              "      <td>33000</td>\n",
              "    </tr>\n",
              "    <tr>\n",
              "      <th>1</th>\n",
              "      <td>An ideal opportunity for an individual that ha...</td>\n",
              "      <td>London</td>\n",
              "      <td>permanent</td>\n",
              "      <td>50000</td>\n",
              "    </tr>\n",
              "    <tr>\n",
              "      <th>2</th>\n",
              "      <td>Online Content and Brand Manager// Luxury Reta...</td>\n",
              "      <td>South East London</td>\n",
              "      <td>permanent</td>\n",
              "      <td>40000</td>\n",
              "    </tr>\n",
              "    <tr>\n",
              "      <th>3</th>\n",
              "      <td>A great local marketleader is seeking a perman...</td>\n",
              "      <td>Dereham</td>\n",
              "      <td>permanent</td>\n",
              "      <td>22500</td>\n",
              "    </tr>\n",
              "    <tr>\n",
              "      <th>4</th>\n",
              "      <td>Registered Nurse / RGN  Nursing Home for Young...</td>\n",
              "      <td>Sutton Coldfield</td>\n",
              "      <td>NaN</td>\n",
              "      <td>20355</td>\n",
              "    </tr>\n",
              "    <tr>\n",
              "      <th>...</th>\n",
              "      <td>...</td>\n",
              "      <td>...</td>\n",
              "      <td>...</td>\n",
              "      <td>...</td>\n",
              "    </tr>\n",
              "    <tr>\n",
              "      <th>59995</th>\n",
              "      <td>As a result of continued growth, First Class S...</td>\n",
              "      <td>Whitley Bay</td>\n",
              "      <td>contract</td>\n",
              "      <td>26400</td>\n",
              "    </tr>\n",
              "    <tr>\n",
              "      <th>59996</th>\n",
              "      <td>PHP / MVC Web Developer  MacclesfieldCirca ***...</td>\n",
              "      <td>Macclesfield</td>\n",
              "      <td>permanent</td>\n",
              "      <td>26000</td>\n",
              "    </tr>\n",
              "    <tr>\n",
              "      <th>59997</th>\n",
              "      <td>Staff Nurse, Nursing Home, Baldock White Recru...</td>\n",
              "      <td>Baldock</td>\n",
              "      <td>NaN</td>\n",
              "      <td>24500</td>\n",
              "    </tr>\n",
              "    <tr>\n",
              "      <th>59998</th>\n",
              "      <td>This is one of the best agency side opportunit...</td>\n",
              "      <td>The City</td>\n",
              "      <td>permanent</td>\n",
              "      <td>65000</td>\n",
              "    </tr>\n",
              "    <tr>\n",
              "      <th>59999</th>\n",
              "      <td>Must have CSCS card must have asbestos awarene...</td>\n",
              "      <td>London</td>\n",
              "      <td>NaN</td>\n",
              "      <td>23040</td>\n",
              "    </tr>\n",
              "  </tbody>\n",
              "</table>\n",
              "<p>60000 rows × 4 columns</p>\n",
              "</div>"
            ],
            "text/plain": [
              "                                         FullDescription  ... SalaryNormalized\n",
              "0      International Sales Manager London ****k  ****...  ...            33000\n",
              "1      An ideal opportunity for an individual that ha...  ...            50000\n",
              "2      Online Content and Brand Manager// Luxury Reta...  ...            40000\n",
              "3      A great local marketleader is seeking a perman...  ...            22500\n",
              "4      Registered Nurse / RGN  Nursing Home for Young...  ...            20355\n",
              "...                                                  ...  ...              ...\n",
              "59995  As a result of continued growth, First Class S...  ...            26400\n",
              "59996  PHP / MVC Web Developer  MacclesfieldCirca ***...  ...            26000\n",
              "59997  Staff Nurse, Nursing Home, Baldock White Recru...  ...            24500\n",
              "59998  This is one of the best agency side opportunit...  ...            65000\n",
              "59999  Must have CSCS card must have asbestos awarene...  ...            23040\n",
              "\n",
              "[60000 rows x 4 columns]"
            ]
          },
          "metadata": {
            "tags": []
          },
          "execution_count": 62
        }
      ]
    },
    {
      "cell_type": "markdown",
      "metadata": {
        "id": "scCqO1SLGwc1"
      },
      "source": [
        "Подготовим данные. Для начала преобразуем все слова в столбце FullDescription в нижний регистр и заменим все спецсимволы на пробелы"
      ]
    },
    {
      "cell_type": "code",
      "metadata": {
        "id": "0YsFRFF6Gwc1"
      },
      "source": [
        "data.FullDescription = data.FullDescription.str.lower()\n",
        "data.FullDescription = data.FullDescription.replace('[^a-zA-Z0-9]', ' ', regex = True)"
      ],
      "execution_count": 63,
      "outputs": []
    },
    {
      "cell_type": "markdown",
      "metadata": {
        "id": "M6-1SHAsGwc1"
      },
      "source": [
        "Теперь заменим все пропущенные данные в столбцах LocationNormalized и ContractTime на 'nan':"
      ]
    },
    {
      "cell_type": "code",
      "metadata": {
        "id": "BeEWoiqiGwc2"
      },
      "source": [
        "data['LocationNormalized'].fillna('nan', inplace=True)\n",
        "data['ContractTime'].fillna('nan', inplace=True)"
      ],
      "execution_count": 64,
      "outputs": []
    },
    {
      "cell_type": "markdown",
      "metadata": {
        "id": "B6kZ29qbGwc2"
      },
      "source": [
        "Теперь нам нужно преобразовать текст из столбца FullDescription в набор признаков. Одним из способов это сделать является TfidVectorizer."
      ]
    },
    {
      "cell_type": "code",
      "metadata": {
        "id": "jpAXE9EhGwc2"
      },
      "source": [
        "from sklearn.feature_extraction.text import TfidfVectorizer\n",
        "tfid = TfidfVectorizer(min_df=5)\n",
        "X_train_tfid = tfid.fit_transform(data.FullDescription)"
      ],
      "execution_count": 65,
      "outputs": []
    },
    {
      "cell_type": "markdown",
      "metadata": {
        "id": "8Fy54LXxGwc3"
      },
      "source": [
        "Чтобы представить в виде набора числовых признаков содержимое столбцов LocationNormalized и ContractTime воспользуемся DictVectorizer"
      ]
    },
    {
      "cell_type": "code",
      "metadata": {
        "id": "y5VMsMbNGwc3"
      },
      "source": [
        "from sklearn.feature_extraction import DictVectorizer\n",
        "enc = DictVectorizer()\n",
        "X_train_categ = enc.fit_transform(data[['LocationNormalized', 'ContractTime']].to_dict('records'))"
      ],
      "execution_count": 66,
      "outputs": []
    },
    {
      "cell_type": "markdown",
      "metadata": {
        "id": "KlYfP3BqGwc3"
      },
      "source": [
        "Объединим матрицы признаков"
      ]
    },
    {
      "cell_type": "code",
      "metadata": {
        "id": "ul_lWT0vGwc3"
      },
      "source": [
        "from scipy.sparse import hstack\n",
        "X = hstack((X_train_categ, X_train_tfid))"
      ],
      "execution_count": 67,
      "outputs": []
    },
    {
      "cell_type": "markdown",
      "metadata": {
        "id": "yjH5fYssGwc3"
      },
      "source": [
        "Обучим на этих признаках регрессор"
      ]
    },
    {
      "cell_type": "code",
      "metadata": {
        "id": "usoQBLzKGwc3",
        "outputId": "0b5df99a-29ab-4769-d6db-8bab385142b3",
        "colab": {
          "base_uri": "https://localhost:8080/"
        }
      },
      "source": [
        "from sklearn.linear_model import Ridge\n",
        "reg = Ridge(alpha=1)\n",
        "reg.fit(X, data.SalaryNormalized)"
      ],
      "execution_count": 68,
      "outputs": [
        {
          "output_type": "execute_result",
          "data": {
            "text/plain": [
              "Ridge(alpha=1, copy_X=True, fit_intercept=True, max_iter=None, normalize=False,\n",
              "      random_state=None, solver='auto', tol=0.001)"
            ]
          },
          "metadata": {
            "tags": []
          },
          "execution_count": 68
        }
      ]
    },
    {
      "cell_type": "markdown",
      "metadata": {
        "id": "RYdEQSO2Gwc3"
      },
      "source": [
        "Загрузим и преобразуем тестовые данные тем же образом"
      ]
    },
    {
      "cell_type": "code",
      "metadata": {
        "id": "uAoJj2dGGwc3",
        "outputId": "08b17aad-5e08-41de-a767-975a8d44111d",
        "colab": {
          "base_uri": "https://localhost:8080/",
          "height": 112
        }
      },
      "source": [
        "url='https://raw.githubusercontent.com/citrux/programming-technologies-4/main/datasets/salary-test-mini.csv'\n",
        "test = pd.read_csv(url)\n",
        "test.FullDescription = test.FullDescription.str.lower()\n",
        "test.FullDescription = test.FullDescription.replace('[^a-zA-Z0-9]', ' ', regex = True)\n",
        "test"
      ],
      "execution_count": 70,
      "outputs": [
        {
          "output_type": "execute_result",
          "data": {
            "text/html": [
              "<div>\n",
              "<style scoped>\n",
              "    .dataframe tbody tr th:only-of-type {\n",
              "        vertical-align: middle;\n",
              "    }\n",
              "\n",
              "    .dataframe tbody tr th {\n",
              "        vertical-align: top;\n",
              "    }\n",
              "\n",
              "    .dataframe thead th {\n",
              "        text-align: right;\n",
              "    }\n",
              "</style>\n",
              "<table border=\"1\" class=\"dataframe\">\n",
              "  <thead>\n",
              "    <tr style=\"text-align: right;\">\n",
              "      <th></th>\n",
              "      <th>FullDescription</th>\n",
              "      <th>LocationNormalized</th>\n",
              "      <th>ContractTime</th>\n",
              "      <th>SalaryNormalized</th>\n",
              "    </tr>\n",
              "  </thead>\n",
              "  <tbody>\n",
              "    <tr>\n",
              "      <th>0</th>\n",
              "      <td>we currently have a vacancy for an hr project ...</td>\n",
              "      <td>Milton Keynes</td>\n",
              "      <td>contract</td>\n",
              "      <td>NaN</td>\n",
              "    </tr>\n",
              "    <tr>\n",
              "      <th>1</th>\n",
              "      <td>a web developer opportunity has arisen with an...</td>\n",
              "      <td>Manchester</td>\n",
              "      <td>permanent</td>\n",
              "      <td>NaN</td>\n",
              "    </tr>\n",
              "  </tbody>\n",
              "</table>\n",
              "</div>"
            ],
            "text/plain": [
              "                                     FullDescription  ... SalaryNormalized\n",
              "0  we currently have a vacancy for an hr project ...  ...              NaN\n",
              "1  a web developer opportunity has arisen with an...  ...              NaN\n",
              "\n",
              "[2 rows x 4 columns]"
            ]
          },
          "metadata": {
            "tags": []
          },
          "execution_count": 70
        }
      ]
    },
    {
      "cell_type": "markdown",
      "metadata": {
        "id": "_2EApdchGwc4"
      },
      "source": [
        "Выделим признаки и получим предсказания зарплат"
      ]
    },
    {
      "cell_type": "code",
      "metadata": {
        "id": "SHZXvA-NGwc4",
        "outputId": "a4669a3a-24c7-4918-fc6a-c15700299a9f",
        "colab": {
          "base_uri": "https://localhost:8080/",
          "height": 112
        }
      },
      "source": [
        "X_test_tfid = tfid.transform(test.FullDescription)\n",
        "X_test_categ = enc.transform(test[['LocationNormalized', 'ContractTime']].to_dict('records'))\n",
        "X_test = hstack((X_test_categ, X_test_tfid))\n",
        "\n",
        "test.SalaryNormalized = reg.predict(X_test)\n",
        "test"
      ],
      "execution_count": 71,
      "outputs": [
        {
          "output_type": "execute_result",
          "data": {
            "text/html": [
              "<div>\n",
              "<style scoped>\n",
              "    .dataframe tbody tr th:only-of-type {\n",
              "        vertical-align: middle;\n",
              "    }\n",
              "\n",
              "    .dataframe tbody tr th {\n",
              "        vertical-align: top;\n",
              "    }\n",
              "\n",
              "    .dataframe thead th {\n",
              "        text-align: right;\n",
              "    }\n",
              "</style>\n",
              "<table border=\"1\" class=\"dataframe\">\n",
              "  <thead>\n",
              "    <tr style=\"text-align: right;\">\n",
              "      <th></th>\n",
              "      <th>FullDescription</th>\n",
              "      <th>LocationNormalized</th>\n",
              "      <th>ContractTime</th>\n",
              "      <th>SalaryNormalized</th>\n",
              "    </tr>\n",
              "  </thead>\n",
              "  <tbody>\n",
              "    <tr>\n",
              "      <th>0</th>\n",
              "      <td>we currently have a vacancy for an hr project ...</td>\n",
              "      <td>Milton Keynes</td>\n",
              "      <td>contract</td>\n",
              "      <td>56567.600393</td>\n",
              "    </tr>\n",
              "    <tr>\n",
              "      <th>1</th>\n",
              "      <td>a web developer opportunity has arisen with an...</td>\n",
              "      <td>Manchester</td>\n",
              "      <td>permanent</td>\n",
              "      <td>37141.324118</td>\n",
              "    </tr>\n",
              "  </tbody>\n",
              "</table>\n",
              "</div>"
            ],
            "text/plain": [
              "                                     FullDescription  ... SalaryNormalized\n",
              "0  we currently have a vacancy for an hr project ...  ...     56567.600393\n",
              "1  a web developer opportunity has arisen with an...  ...     37141.324118\n",
              "\n",
              "[2 rows x 4 columns]"
            ]
          },
          "metadata": {
            "tags": []
          },
          "execution_count": 71
        }
      ]
    },
    {
      "cell_type": "code",
      "metadata": {
        "id": "kJzGso2gGwc4"
      },
      "source": [
        ""
      ],
      "execution_count": null,
      "outputs": []
    }
  ]
}